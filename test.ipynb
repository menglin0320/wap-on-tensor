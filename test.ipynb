{
 "cells": [
  {
   "cell_type": "code",
   "execution_count": 1,
   "metadata": {
    "collapsed": true
   },
   "outputs": [],
   "source": [
    "import json\n",
    "import numpy as np\n",
    "import h5py\n",
    "import tensorflow as tf\n",
    "import os\n",
    "import cPickle as pkl\n",
    "#import ipdb\n",
    "import numpy\n",
    "import copy\n",
    "import pprint\n",
    "from Recognizer import MathFormulaRecognizer\n",
    "import warnings\n",
    "import sys\n",
    "import math\n",
    "import time\n",
    "from util import *\n",
    "from collections import OrderedDict\n",
    "\n",
    "from data_iterator import dataIterator\n",
    "import matplotlib.pyplot as plt\n",
    "%matplotlib inline\n"
   ]
  },
  {
   "cell_type": "code",
   "execution_count": 2,
   "metadata": {
    "collapsed": false
   },
   "outputs": [],
   "source": [
    "home_path = os.getcwd()\n",
    "checkpoint_path = os.path.join(home_path,'save')\n",
    "max_iters = 100000\n",
    "batch_size = 8\n",
    "valid_batch_size = 2\n",
    "finetune_encoder_after = -1\n",
    "#Evaluation Checkpoint\n",
    "nEvaImages = 300\n",
    "EvaEach = 2500\n",
    "SummaryEach = 1000\n",
    "device = \"/gpu:0\"\n",
    "batch_Imagesize=250000\n",
    "valid_batch_Imagesize=250000\n",
    "maxImagesize = 500000\n",
    "maxlen = 200\n",
    "n_epoch = 10000"
   ]
  },
  {
   "cell_type": "code",
   "execution_count": 3,
   "metadata": {
    "collapsed": false
   },
   "outputs": [],
   "source": [
    "#build model\n",
    "model = MathFormulaRecognizer(num_label =112,dim_hidden=128,device = '/device:GPU:0')\n",
    "alpha_t,beta_t,state,logit = model.build_eval()\n",
    "saver = tf.train.Saver(max_to_keep=10)\n",
    "sess = tf.Session()\n",
    "saved_path=tf.train.latest_checkpoint(checkpoint_path)\n",
    "tf.reset_default_graph()\n",
    "saver.restore(sess, saved_path)"
   ]
  },
  {
   "cell_type": "code",
   "execution_count": 4,
   "metadata": {
    "collapsed": false
   },
   "outputs": [
    {
     "name": "stdout",
     "output_type": "stream",
     "text": [
      "total words/phones 111\n",
      "total  1779 batch data loaded\n",
      "sentence 505_em_51 length bigger than 200 ignore\n",
      "total  505 batch data loaded\n"
     ]
    }
   ],
   "source": [
    "datasets=['./data/offline-train.pkl',\n",
    "'./data/train_caption.txt']\n",
    "valid_datasets=['./data/offline-test.pkl',\n",
    "'./data/test_caption.txt']\n",
    "dictionaries=['./data/dictionary.txt']\n",
    "\n",
    "\n",
    "worddicts = load_dict(dictionaries[0])\n",
    "worddicts_r = [None] * len(worddicts)\n",
    "\n",
    "for kk, vv in worddicts.iteritems():\n",
    "        worddicts_r[vv] = kk\n",
    "train,train_uid_list = dataIterator(datasets[0], datasets[1],\n",
    "                         worddicts,\n",
    "                         batch_size=batch_size, batch_Imagesize=batch_Imagesize,maxlen=maxlen,maxImagesize=maxImagesize)\n",
    "valid,valid_uid_list = dataIterator(valid_datasets[0], valid_datasets[1],\n",
    "                     worddicts,\n",
    "                     batch_size=valid_batch_size, batch_Imagesize=valid_batch_Imagesize,maxlen=maxlen,maxImagesize=maxImagesize)\n"
   ]
  },
  {
   "cell_type": "code",
   "execution_count": 48,
   "metadata": {
    "collapsed": false
   },
   "outputs": [
    {
     "name": "stdout",
     "output_type": "stream",
     "text": [
      "[102  61  56  35 106]\n"
     ]
    }
   ],
   "source": [
    "def softmax(x):\n",
    "    return np.exp(x) / np.sum(np.exp(x), axis=0)\n",
    "ind = 678\n",
    "valid = np.squeeze(valid)\n",
    "train = np.squeeze(train)\n",
    "n_valid_img = valid.shape[0]\n",
    "x, x_mask, y, y_mask = prepare_data(train[ind,0],train[ind,1])\n",
    "x = x[0:1,:,:,:]\n",
    "x_mask = x_mask[0:1,:,:]\n",
    "\n",
    "Alpha,Beta,State,Logit,information_tensor,vec_mask,sx_mask \\\n",
    "            = sess.run([alpha_t,beta_t,state,logit,model.information_tensor,model.vec_mask,model.sx_mask],\\\n",
    "            feed_dict={model.x:x,model.x_mask:x_mask,model.is_train:False})\n",
    "\n",
    "orders = np.argsort(Logit[0])[::-1]\n",
    "probs = softmax(Logit[0])\n",
    "inds = orders[0:5]\n",
    "probs = np.log(probs[inds])\n",
    "result = [[ind] for ind in inds]\n",
    "print(inds)"
   ]
  },
  {
   "cell_type": "code",
   "execution_count": 49,
   "metadata": {
    "collapsed": false
   },
   "outputs": [
    {
     "name": "stdout",
     "output_type": "stream",
     "text": [
      "[102, 47]\n",
      "[61, 47]\n",
      "[102, 106]\n",
      "[102, 80]\n",
      "[56, 106]\n"
     ]
    }
   ],
   "source": [
    "beams = []\n",
    "temp_structure = []\n",
    "for i in range(0,5):\n",
    "    previous_word = np.expand_dims(np.asarray(result[i][0]),0)\n",
    "    \n",
    "    tAlpha,tBeta,tState,tLogit = sess.run([alpha_t,beta_t,state,logit],feed_dict=\\\n",
    "                                          {model.information_tensor:information_tensor,model.vec_mask:vec_mask,\\\n",
    "                                            model.in_alpha_t:Alpha,model.in_beta_t:Beta,model.sx_mask:sx_mask,\\\n",
    "                                            model.in_state:State,model.in_previous_word:previous_word,model.is_train:False})\n",
    "    \n",
    "    orders = np.argsort(tLogit[0])[::-1]\n",
    "    tprobs = softmax(tLogit[0])\n",
    "    inds = orders[0:5]\n",
    "    tprobs = np.log(tprobs[inds])\n",
    "#     print(tprobs)\n",
    "    for j in range(0,5):\n",
    "        temp_structure.append([np.copy(tAlpha),np.copy(tBeta),np.copy(tState),result[i]+[inds[j]],tprobs[j]+ probs[i]])\n",
    "a = sorted(temp_structure, key=lambda x: x[4], reverse=True)\n",
    "cur_beam = a[0:5]\n",
    "\n",
    "finish_flag = False\n",
    "latex_array = ''\n",
    "for j in range(0,5):\n",
    "    print(cur_beam[j][3])\n",
    "    if(cur_beam[j][3][1] == 0):\n",
    "        latex_array = cur_beam[j][3]\n",
    "        finish_flag = True  \n",
    "        break\n"
   ]
  },
  {
   "cell_type": "code",
   "execution_count": 50,
   "metadata": {
    "collapsed": false
   },
   "outputs": [
    {
     "name": "stdout",
     "output_type": "stream",
     "text": [
      "[102, 47, 57]\n",
      "[61, 47, 57]\n",
      "[102, 106, 47]\n",
      "[102, 80, 47]\n",
      "[56, 106, 47]\n",
      "[102, 47, 57, 79]\n",
      "[102, 47, 57, 106]\n",
      "[102, 47, 57, 90]\n",
      "[102, 106, 47, 57]\n",
      "[61, 47, 57, 79]\n",
      "[102, 47, 57, 79, 110]\n",
      "[102, 47, 57, 106, 110]\n",
      "[102, 47, 57, 79, 34]\n",
      "[102, 47, 57, 90, 110]\n",
      "[102, 47, 57, 79, 93]\n",
      "[102, 47, 57, 79, 110, 34]\n",
      "[102, 47, 57, 106, 110, 93]\n",
      "[102, 47, 57, 79, 110, 93]\n",
      "[102, 47, 57, 79, 34, 90]\n",
      "[102, 47, 57, 79, 110, 61]\n",
      "[102, 47, 57, 79, 110, 34, 79]\n",
      "[102, 47, 57, 79, 110, 34, 106]\n",
      "[102, 47, 57, 79, 34, 90, 110]\n",
      "[102, 47, 57, 79, 110, 34, 6]\n",
      "[102, 47, 57, 79, 110, 34, 26]\n",
      "[102, 47, 57, 79, 110, 34, 79, 47]\n",
      "[102, 47, 57, 79, 110, 34, 106, 47]\n",
      "[102, 47, 57, 79, 34, 90, 110, 34]\n",
      "[102, 47, 57, 79, 110, 34, 6, 79]\n",
      "[102, 47, 57, 79, 110, 34, 26, 47]\n",
      "[102, 47, 57, 79, 110, 34, 79, 47, 57]\n",
      "[102, 47, 57, 79, 110, 34, 106, 47, 57]\n",
      "[102, 47, 57, 79, 110, 34, 6, 79, 89]\n",
      "[102, 47, 57, 79, 110, 34, 26, 47, 57]\n",
      "[102, 47, 57, 79, 34, 90, 110, 34, 6]\n",
      "[102, 47, 57, 79, 110, 34, 106, 47, 57, 79]\n",
      "[102, 47, 57, 79, 110, 34, 79, 47, 57, 79]\n",
      "[102, 47, 57, 79, 110, 34, 79, 47, 57, 90]\n",
      "[102, 47, 57, 79, 110, 34, 6, 79, 89, 90]\n",
      "[102, 47, 57, 79, 34, 90, 110, 34, 6, 79]\n",
      "[102, 47, 57, 79, 110, 34, 106, 47, 57, 79, 89]\n",
      "[102, 47, 57, 79, 110, 34, 79, 47, 57, 79, 89]\n",
      "[102, 47, 57, 79, 110, 34, 6, 79, 89, 90, 88]\n",
      "[102, 47, 57, 79, 34, 90, 110, 34, 6, 79, 89]\n",
      "[102, 47, 57, 79, 110, 34, 79, 47, 57, 90, 89]\n",
      "[102, 47, 57, 79, 110, 34, 106, 47, 57, 79, 89, 90]\n",
      "[102, 47, 57, 79, 110, 34, 79, 47, 57, 79, 89, 90]\n",
      "[102, 47, 57, 79, 110, 34, 6, 79, 89, 90, 88, 22]\n",
      "[102, 47, 57, 79, 34, 90, 110, 34, 6, 79, 89, 90]\n",
      "[102, 47, 57, 79, 110, 34, 79, 47, 57, 90, 89, 90]\n",
      "[102, 47, 57, 79, 110, 34, 106, 47, 57, 79, 89, 90, 110]\n",
      "[102, 47, 57, 79, 110, 34, 79, 47, 57, 79, 89, 90, 110]\n",
      "[102, 47, 57, 79, 34, 90, 110, 34, 6, 79, 89, 90, 88]\n",
      "[102, 47, 57, 79, 110, 34, 79, 47, 57, 90, 89, 90, 110]\n",
      "[102, 47, 57, 79, 110, 34, 6, 79, 89, 90, 88, 22, 0]\n"
     ]
    }
   ],
   "source": [
    "iter_num = 2\n",
    "while(True):\n",
    "    temp_structure = []\n",
    "    if finish_flag:\n",
    "        break\n",
    "    for i in range(0,5):\n",
    "#         print(cur_beam[i][3])\n",
    "        previous_word = np.expand_dims(np.asarray(cur_beam[i][3][iter_num-1]),0)\n",
    "        Alpha = cur_beam[i][0]\n",
    "        Beta = cur_beam[i][1]\n",
    "        State = cur_beam[i][2]\n",
    "        tAlpha,tBeta,tState,tLogit = sess.run([alpha_t,beta_t,state,logit],feed_dict=\\\n",
    "                                              {model.information_tensor:information_tensor,model.vec_mask:vec_mask,\\\n",
    "                                                model.in_alpha_t:Alpha,model.in_beta_t:Beta,model.sx_mask:sx_mask,\\\n",
    "                                                model.in_state:State,model.in_previous_word:previous_word,model.is_train:False})\n",
    "        orders = np.argsort(tLogit[0])[::-1]\n",
    "        tprobs = softmax(tLogit[0])\n",
    "        inds = orders[0:5]\n",
    "        tprobs = np.log(tprobs[inds])\n",
    "#     print(tprobs)\n",
    "        for j in range(0,5):\n",
    "            temp_structure.append([np.copy(tAlpha),np.copy(tBeta),np.copy(tState),cur_beam[i][3]+[inds[j]],tprobs[j]+ cur_beam[i][4]])\n",
    "    a = sorted(temp_structure, key=lambda x: x[4], reverse=True)\n",
    "    cur_beam = a[0:5]\n",
    "#     print(cur_beam[0][3])\n",
    "    for j in range(0,5):\n",
    "        print(cur_beam[j][3])\n",
    "        if(cur_beam[j][3][iter_num] == 0):\n",
    "            latex_array = cur_beam[j][3]\n",
    "            finish_flag = True\n",
    "            break\n",
    "    iter_num += 1\n"
   ]
  },
  {
   "cell_type": "code",
   "execution_count": 51,
   "metadata": {
    "collapsed": false
   },
   "outputs": [
    {
     "data": {
      "text/plain": [
       "<matplotlib.image.AxesImage at 0x7f6ffbc9f0d0>"
      ]
     },
     "execution_count": 51,
     "metadata": {},
     "output_type": "execute_result"
    },
    {
     "data": {
      "image/png": "[encoded data removed]",
      "text/plain": [
       "<matplotlib.figure.Figure at 0x7f700024a510>"
      ]
     },
     "metadata": {},
     "output_type": "display_data"
    }
   ],
   "source": [
    "im =np.squeeze(x[0])\n",
    "plt.imshow(np.squeeze(im),cmap='gray')"
   ]
  },
  {
   "cell_type": "code",
   "execution_count": 52,
   "metadata": {
    "collapsed": false
   },
   "outputs": [
    {
     "name": "stdout",
     "output_type": "stream",
     "text": [
      "[102, 47, 57, 79, 110, 34, 6, 79, 89, 90, 88, 22, 0]\n",
      "a_{n}+(n-1)d\n"
     ]
    },
    {
     "data": {
      "text/plain": [
       "<matplotlib.text.Text at 0x7f6ffbcd07d0>"
      ]
     },
     "execution_count": 52,
     "metadata": {},
     "output_type": "execute_result"
    },
    {
     "data": {
      "image/png": "[encoded data removed]",
      "text/plain": [
       "<matplotlib.figure.Figure at 0x7f6ffbd50910>"
      ]
     },
     "metadata": {},
     "output_type": "display_data"
    }
   ],
   "source": [
    "to_print = ''\n",
    "print(latex_array)\n",
    "for i in range(0,len(latex_array)-1):\n",
    "    to_print = to_print + (worddicts_r[latex_array[i]])\n",
    "print(to_print)\n",
    "ax = plt.axes([0,0,3.0,0.4]) #left,bottom,width,height\n",
    "ax.set_xticks([])\n",
    "ax.set_yticks([])\n",
    "plt.text(0.3,0.4,'$%s$' %to_print,size=40)\n",
    "\n",
    "# plt.imshow(np.reshape(att[0][0],[height,width]),cmap='gray')"
   ]
  },
  {
   "cell_type": "code",
   "execution_count": null,
   "metadata": {
    "collapsed": false
   },
   "outputs": [],
   "source": []
  },
  {
   "cell_type": "code",
   "execution_count": null,
   "metadata": {
    "collapsed": true
   },
   "outputs": [],
   "source": []
  },
  {
   "cell_type": "code",
   "execution_count": null,
   "metadata": {
    "collapsed": false
   },
   "outputs": [],
   "source": []
  },
  {
   "cell_type": "code",
   "execution_count": null,
   "metadata": {
    "collapsed": false
   },
   "outputs": [],
   "source": [
    "# import matplotlib.pyplot as plt\n",
    "# a = '\\\\frac{a}{b}'  #notice escaped slash\n",
    "# plt.plot()\n",
    "# plt.text(0.5, 0.5,'$%s$'%a)\n",
    "# plt.show()"
   ]
  },
  {
   "cell_type": "code",
   "execution_count": null,
   "metadata": {
    "collapsed": false
   },
   "outputs": [],
   "source": []
  },
  {
   "cell_type": "code",
   "execution_count": null,
   "metadata": {
    "collapsed": true
   },
   "outputs": [],
   "source": []
  }
 ],
 "metadata": {
  "kernelspec": {
   "display_name": "Python 2",
   "language": "python",
   "name": "python2"
  },
  "language_info": {
   "codemirror_mode": {
    "name": "ipython",
    "version": 2
   },
   "file_extension": ".py",
   "mimetype": "text/x-python",
   "name": "python",
   "nbconvert_exporter": "python",
   "pygments_lexer": "ipython2",
   "version": "2.7.12"
  }
 },
 "nbformat": 4,
 "nbformat_minor": 0
}
