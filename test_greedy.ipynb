{
 "cells": [
  {
   "cell_type": "code",
   "execution_count": null,
   "metadata": {
    "collapsed": true
   },
   "outputs": [],
   "source": [
    "import json\n",
    "import numpy as np\n",
    "import h5py\n",
    "import tensorflow as tf\n",
    "import os\n",
    "import cPickle as pkl\n",
    "#import ipdb\n",
    "import numpy\n",
    "import copy\n",
    "import pprint\n",
    "from Recognizer import MathFormulaRecognizer\n",
    "import warnings\n",
    "import sys\n",
    "import math\n",
    "import time\n",
    "from util import *\n",
    "from collections import OrderedDict\n",
    "\n",
    "from data_iterator import dataIterator\n",
    "import matplotlib.pyplot as plt\n",
    "%matplotlib inline\n"
   ]
  },
  {
   "cell_type": "code",
   "execution_count": null,
   "metadata": {
    "collapsed": true
   },
   "outputs": [],
   "source": [
    "home_path = os.getcwd()\n",
    "checkpoint_path = os.path.join(home_path,'save')\n",
    "max_iters = 100000\n",
    "batch_size = 8\n",
    "valid_batch_size = 2\n",
    "finetune_encoder_after = -1\n",
    "#Evaluation Checkpoint\n",
    "nEvaImages = 300\n",
    "EvaEach = 2500\n",
    "SummaryEach = 1000\n",
    "device = \"/gpu:0\"\n",
    "batch_Imagesize=250000\n",
    "valid_batch_Imagesize=250000\n",
    "maxImagesize = 500000\n",
    "maxlen = 200\n",
    "n_epoch = 10000"
   ]
  },
  {
   "cell_type": "code",
   "execution_count": null,
   "metadata": {
    "collapsed": true
   },
   "outputs": [],
   "source": [
    "model = MathFormulaRecognizer(num_label =112,dim_hidden=128,device = '/device:GPU:0')\n",
    "words,alphas= model.build_greedy_eval()\n",
    "saver = tf.train.Saver(max_to_keep=10)\n",
    "sess = tf.Session()\n",
    "saved_path=tf.train.latest_checkpoint(checkpoint_path)\n",
    "tf.reset_default_graph()\n",
    "saver.restore(sess, saved_path)"
   ]
  },
  {
   "cell_type": "code",
   "execution_count": null,
   "metadata": {
    "collapsed": false
   },
   "outputs": [],
   "source": [
    "datasets=['./data/offline-train.pkl',\n",
    "'./data/train_caption.txt']\n",
    "valid_datasets=['./data/offline-test.pkl',\n",
    "'./data/test_caption.txt']\n",
    "dictionaries=['./data/dictionary.txt']\n",
    "\n",
    "\n",
    "worddicts = load_dict(dictionaries[0])\n",
    "worddicts_r = [None] * len(worddicts)\n",
    "\n",
    "for kk, vv in worddicts.iteritems():\n",
    "        worddicts_r[vv] = kk\n",
    "train,train_uid_list = dataIterator(datasets[0], datasets[1],\n",
    "                         worddicts,\n",
    "                         batch_size=batch_size, batch_Imagesize=batch_Imagesize,maxlen=maxlen,maxImagesize=maxImagesize)\n",
    "valid,valid_uid_list = dataIterator(valid_datasets[0], valid_datasets[1],\n",
    "                     worddicts,\n",
    "                     batch_size=valid_batch_size, batch_Imagesize=valid_batch_Imagesize,maxlen=maxlen,maxImagesize=maxImagesize)\n"
   ]
  },
  {
   "cell_type": "code",
   "execution_count": null,
   "metadata": {
    "collapsed": false,
    "scrolled": true
   },
   "outputs": [],
   "source": [
    "ind = 425\n",
    "valid = np.squeeze(valid)\n",
    "train = np.squeeze(train)\n",
    "x, x_mask, y, y_mask = prepare_data(train[ind,0],train[ind,1])\n",
    "x = x[0:1,:,:,:]\n",
    "x_mask = x_mask[0:1,:,:]\n",
    "Words,Alphas,height,width= sess.run([words,alphas,model.feature_height,model.feature_width],\\\n",
    "            feed_dict={model.x:x,model.x_mask:x_mask,model.is_train:False})\n",
    "\n",
    "print(Words)"
   ]
  },
  {
   "cell_type": "code",
   "execution_count": null,
   "metadata": {
    "collapsed": false
   },
   "outputs": [],
   "source": [
    "im =np.squeeze(x[0])\n",
    "plt.imshow(np.squeeze(im),cmap='gray')"
   ]
  },
  {
   "cell_type": "code",
   "execution_count": null,
   "metadata": {
    "collapsed": false
   },
   "outputs": [],
   "source": [
    "im =np.reshape(Alphas[11][0],[height,width])\n",
    "\n",
    "plt.imshow(np.squeeze(im),cmap='gray')"
   ]
  },
  {
   "cell_type": "code",
   "execution_count": null,
   "metadata": {
    "collapsed": true
   },
   "outputs": [],
   "source": []
  },
  {
   "cell_type": "code",
   "execution_count": null,
   "metadata": {
    "collapsed": true
   },
   "outputs": [],
   "source": []
  }
 ],
 "metadata": {
  "kernelspec": {
   "display_name": "Python 2",
   "language": "python",
   "name": "python2"
  },
  "language_info": {
   "codemirror_mode": {
    "name": "ipython",
    "version": 2
   },
   "file_extension": ".py",
   "mimetype": "text/x-python",
   "name": "python",
   "nbconvert_exporter": "python",
   "pygments_lexer": "ipython2",
   "version": "2.7.12"
  }
 },
 "nbformat": 4,
 "nbformat_minor": 0
}
